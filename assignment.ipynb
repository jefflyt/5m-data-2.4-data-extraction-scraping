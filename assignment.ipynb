{
 "cells": [
  {
   "cell_type": "markdown",
   "id": "48114eca",
   "metadata": {},
   "source": [
    "# Assignment\n",
    "\n",
    "## Brief\n",
    "\n",
    "Write the Python codes for the following questions.\n",
    "\n",
    "## Instructions\n",
    "\n",
    "Paste the answer as Python in the answer code section below each question.\n",
    "\n",
    "### Question 1\n",
    "\n",
    "Question: The scraping of `https://www.scrapethissite.com/pages/forms/` in the last section assumes a hardcoded (fixed) no of pages. Can you improve the code by removing the hardcoded no of pages and instead use the `»` button to determine if there are more pages to scrape? Hint: Use a `while` loop.\n"
   ]
  },
  {
   "cell_type": "code",
   "execution_count": null,
   "id": "dcd42358",
   "metadata": {},
   "outputs": [],
   "source": [
    "def parse_and_extract_rows(soup: BeautifulSoup):\n",
    "    \"\"\"\n",
    "    Extract table rows from the parsed HTML.\n",
    "\n",
    "    Args:\n",
    "        soup: The parsed HTML.\n",
    "\n",
    "    Returns:\n",
    "        An iterator of dictionaries with the data from the current page.\n",
    "    \"\"\"\n",
    "    header = soup.find('tr')\n",
    "    headers = [th.text.strip() for th in header.find_all('th')]\n",
    "    teams = soup.find_all('tr', 'team')\n",
    "    for team in teams:\n",
    "        row_dict = {}\n",
    "        for header, col in zip(headers, team.find_all('td')):\n",
    "            row_dict[header] = col.text.strip()\n",
    "        yield row_dict"
   ]
  },
  {
   "cell_type": "code",
   "execution_count": null,
   "id": "2670de75",
   "metadata": {},
   "outputs": [],
   "source": [
    "rows = []\n",
    "page = 1\n",
    "\n",
    "while True:  # Keep going until we decide to break\n",
    "    r = requests.get(f\"https://www.scrapethissite.com/pages/forms/?page_num={page}\")\n",
    "    soup = BeautifulSoup(r.text, \"html.parser\")\n",
    "    \n",
    "    # Extract data from current page\n",
    "    for row_dict in parse_and_extract_rows(soup):\n",
    "        rows.append(row_dict)\n",
    "    \n",
    "    # If no \"Next\" button, we're done!\n",
    "    if not soup.find(\"a\", {\"aria-label\": \"Next\"}):\n",
    "        break\n",
    "        \n",
    "    page += 1\n",
    "    time.sleep(1)"
   ]
  },
  {
   "cell_type": "markdown",
   "id": "8928607f",
   "metadata": {},
   "source": [
    "## Submission\n",
    "\n",
    "- Submit the URL of the GitHub Repository that contains your work to NTU black board.\n",
    "- Should you reference the work of your classmate(s) or online resources, give them credit by adding either the name of your classmate or URL.\n"
   ]
  }
 ],
 "metadata": {
  "language_info": {
   "name": "python"
  }
 },
 "nbformat": 4,
 "nbformat_minor": 5
}
